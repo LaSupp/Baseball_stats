{
 "cells": [
  {
   "cell_type": "code",
   "execution_count": 9,
   "metadata": {},
   "outputs": [
    {
     "name": "stdout",
     "output_type": "stream",
     "text": [
      "Index(['Year', 'First', 'Last', 'Team', 'f_points', 'Age', 'G', 'GS', 'IP',\n",
      "       'SO', 'CG', 'QS', 'W', 'L', 'ShO', 'SV', 'HLD', 'BS', 'BB', 'IBB',\n",
      "       'HBP', 'ERA', 'H', 'R', 'ER', 'HR', 'K/9', 'BB/9', 'K/BB', 'H/9',\n",
      "       'HR/9', 'WP', 'BK', 'GB', 'FB', 'LD', 'IFFB', 'Balls', 'Strikes',\n",
      "       'Pitches', 'RS', 'IFH', 'BU', 'BUH', 'AVG', 'WHIP', 'BABIP', 'LOB%',\n",
      "       'FIP', 'GB/FB', 'LD%', 'GB%', 'IFFB%', 'HR/FB', 'IFH%', 'BUH%',\n",
      "       'Starting', 'Start-IP', 'Relieving', 'Relief-IP', 'BLSV', 'WAR', 'SHO',\n",
      "       'TBF', 'GF', 'SVO', 'SH', 'SF', 'GDP', 'QS%'],\n",
      "      dtype='object')\n"
     ]
    }
   ],
   "source": [
    "import pandas as pd\n",
    "import statsmodels.api as sm\n",
    "\n",
    "#set year\n",
    "year = 2019\n",
    "\n",
    "#read in csv and put to data frames\n",
    "path = 'C:\\\\Users\\\\laine\\\\Google Drive\\\\Google Drive\\\\Baseball_stats\\\\fb_pitcher_stats_' + str(year) + '.csv'\n",
    "\n",
    "\n",
    "#read in csv and put to data frames\n",
    "df = pd.read_csv(path)\n",
    "\n",
    "print(df.columns)"
   ]
  },
  {
   "cell_type": "code",
   "execution_count": 41,
   "metadata": {},
   "outputs": [
    {
     "name": "stdout",
     "output_type": "stream",
     "text": [
      "const         NaN\n",
      "WAR      0.776144\n",
      "WHIP    -0.348580\n",
      "dtype: float64\n"
     ]
    },
    {
     "data": {
      "text/html": [
       "<table class=\"simpletable\">\n",
       "<caption>OLS Regression Results</caption>\n",
       "<tr>\n",
       "  <th>Dep. Variable:</th>        <td>f_points</td>     <th>  R-squared:         </th> <td>   0.613</td>\n",
       "</tr>\n",
       "<tr>\n",
       "  <th>Model:</th>                   <td>OLS</td>       <th>  Adj. R-squared:    </th> <td>   0.610</td>\n",
       "</tr>\n",
       "<tr>\n",
       "  <th>Method:</th>             <td>Least Squares</td>  <th>  F-statistic:       </th> <td>   235.9</td>\n",
       "</tr>\n",
       "<tr>\n",
       "  <th>Date:</th>             <td>Sun, 26 Jan 2020</td> <th>  Prob (F-statistic):</th> <td>3.88e-62</td>\n",
       "</tr>\n",
       "<tr>\n",
       "  <th>Time:</th>                 <td>14:55:09</td>     <th>  Log-Likelihood:    </th> <td> -1730.2</td>\n",
       "</tr>\n",
       "<tr>\n",
       "  <th>No. Observations:</th>      <td>   301</td>      <th>  AIC:               </th> <td>   3466.</td>\n",
       "</tr>\n",
       "<tr>\n",
       "  <th>Df Residuals:</th>          <td>   298</td>      <th>  BIC:               </th> <td>   3477.</td>\n",
       "</tr>\n",
       "<tr>\n",
       "  <th>Df Model:</th>              <td>     2</td>      <th>                     </th>     <td> </td>   \n",
       "</tr>\n",
       "<tr>\n",
       "  <th>Covariance Type:</th>      <td>nonrobust</td>    <th>                     </th>     <td> </td>   \n",
       "</tr>\n",
       "</table>\n",
       "<table class=\"simpletable\">\n",
       "<tr>\n",
       "    <td></td>       <th>coef</th>     <th>std err</th>      <th>t</th>      <th>P>|t|</th>  <th>[0.025</th>    <th>0.975]</th>  \n",
       "</tr>\n",
       "<tr>\n",
       "  <th>const</th> <td>  187.8665</td> <td>   36.555</td> <td>    5.139</td> <td> 0.000</td> <td>  115.928</td> <td>  259.805</td>\n",
       "</tr>\n",
       "<tr>\n",
       "  <th>WAR</th>   <td>   61.1747</td> <td>    3.145</td> <td>   19.449</td> <td> 0.000</td> <td>   54.985</td> <td>   67.365</td>\n",
       "</tr>\n",
       "<tr>\n",
       "  <th>WHIP</th>  <td>   74.9834</td> <td>   26.401</td> <td>    2.840</td> <td> 0.005</td> <td>   23.028</td> <td>  126.939</td>\n",
       "</tr>\n",
       "</table>\n",
       "<table class=\"simpletable\">\n",
       "<tr>\n",
       "  <th>Omnibus:</th>       <td> 9.607</td> <th>  Durbin-Watson:     </th> <td>   1.232</td>\n",
       "</tr>\n",
       "<tr>\n",
       "  <th>Prob(Omnibus):</th> <td> 0.008</td> <th>  Jarque-Bera (JB):  </th> <td>  10.165</td>\n",
       "</tr>\n",
       "<tr>\n",
       "  <th>Skew:</th>          <td> 0.357</td> <th>  Prob(JB):          </th> <td> 0.00621</td>\n",
       "</tr>\n",
       "<tr>\n",
       "  <th>Kurtosis:</th>      <td> 3.548</td> <th>  Cond. No.          </th> <td>    25.2</td>\n",
       "</tr>\n",
       "</table><br/><br/>Warnings:<br/>[1] Standard Errors assume that the covariance matrix of the errors is correctly specified."
      ],
      "text/plain": [
       "<class 'statsmodels.iolib.summary.Summary'>\n",
       "\"\"\"\n",
       "                            OLS Regression Results                            \n",
       "==============================================================================\n",
       "Dep. Variable:               f_points   R-squared:                       0.613\n",
       "Model:                            OLS   Adj. R-squared:                  0.610\n",
       "Method:                 Least Squares   F-statistic:                     235.9\n",
       "Date:                Sun, 26 Jan 2020   Prob (F-statistic):           3.88e-62\n",
       "Time:                        14:55:09   Log-Likelihood:                -1730.2\n",
       "No. Observations:                 301   AIC:                             3466.\n",
       "Df Residuals:                     298   BIC:                             3477.\n",
       "Df Model:                           2                                         \n",
       "Covariance Type:            nonrobust                                         \n",
       "==============================================================================\n",
       "                 coef    std err          t      P>|t|      [0.025      0.975]\n",
       "------------------------------------------------------------------------------\n",
       "const        187.8665     36.555      5.139      0.000     115.928     259.805\n",
       "WAR           61.1747      3.145     19.449      0.000      54.985      67.365\n",
       "WHIP          74.9834     26.401      2.840      0.005      23.028     126.939\n",
       "==============================================================================\n",
       "Omnibus:                        9.607   Durbin-Watson:                   1.232\n",
       "Prob(Omnibus):                  0.008   Jarque-Bera (JB):               10.165\n",
       "Skew:                           0.357   Prob(JB):                      0.00621\n",
       "Kurtosis:                       3.548   Cond. No.                         25.2\n",
       "==============================================================================\n",
       "\n",
       "Warnings:\n",
       "[1] Standard Errors assume that the covariance matrix of the errors is correctly specified.\n",
       "\"\"\""
      ]
     },
     "execution_count": 41,
     "metadata": {},
     "output_type": "execute_result"
    }
   ],
   "source": [
    "X = df[['WAR','WHIP']]\n",
    "\n",
    "#,'K/9','BB/9','LD%','GB%','GB/FB'\n",
    "\n",
    "y = df['f_points']\n",
    "X = sm.add_constant(X) ## let's add an intercept (beta_0) to our model\n",
    "\n",
    "print(X.corrwith(y, axis=0))\n",
    "\n",
    "# fit model\n",
    "model = sm.OLS(y, X).fit()\n",
    "predictions = model.predict(X) # make the predictions by the model\n",
    "\n",
    "# Print out the statistics\n",
    "model.summary()"
   ]
  }
 ],
 "metadata": {
  "kernelspec": {
   "display_name": "Python 3",
   "language": "python",
   "name": "python3"
  },
  "language_info": {
   "codemirror_mode": {
    "name": "ipython",
    "version": 3
   },
   "file_extension": ".py",
   "mimetype": "text/x-python",
   "name": "python",
   "nbconvert_exporter": "python",
   "pygments_lexer": "ipython3",
   "version": "3.7.4"
  }
 },
 "nbformat": 4,
 "nbformat_minor": 2
}
