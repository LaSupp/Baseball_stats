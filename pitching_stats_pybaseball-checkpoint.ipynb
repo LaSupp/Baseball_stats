{
 "cells": [
  {
   "cell_type": "code",
   "execution_count": 36,
   "metadata": {},
   "outputs": [],
   "source": [
    "from pybaseball import pitching_stats\n",
    "\n",
    "#set year\n",
    "year = 2016"
   ]
  },
  {
   "cell_type": "code",
   "execution_count": 37,
   "metadata": {},
   "outputs": [
    {
     "data": {
      "text/plain": [
       "array(['Season', 'Name', 'Team', 'Age', 'W', 'L', 'ERA', 'WAR', 'G', 'GS',\n",
       "       'CG', 'ShO', 'SV', 'BS', 'IP', 'TBF', 'H', 'R', 'ER', 'HR', 'BB',\n",
       "       'IBB', 'HBP', 'WP', 'BK', 'SO', 'GB', 'FB', 'LD', 'IFFB', 'Balls',\n",
       "       'Strikes', 'Pitches', 'RS', 'IFH', 'BU', 'BUH', 'K/9', 'BB/9',\n",
       "       'K/BB', 'H/9', 'HR/9', 'AVG', 'WHIP', 'BABIP', 'LOB%', 'FIP',\n",
       "       'GB/FB', 'LD%', 'GB%', 'IFFB%', 'HR/FB', 'IFH%', 'BUH%',\n",
       "       'Starting', 'Start-IP', 'Relieving', 'Relief-IP', 'RAR', 'Dollars',\n",
       "       'tERA', 'xFIP', 'WPA', '-WPA', '+WPA', 'RE24', 'REW', 'pLI',\n",
       "       'inLI', 'gmLI', 'exLI', 'Pulls', 'WPA/LI', 'Clutch', 'FB%', 'FBv',\n",
       "       'SL%', 'SLv', 'CT%', 'CTv', 'CB%', 'CBv', 'CH%', 'CHv', 'SF%',\n",
       "       'SFv', 'KN%', 'KNv', 'XX%', 'PO%', 'wFB', 'wSL', 'wCT', 'wCB',\n",
       "       'wCH', 'wSF', 'wKN', 'wFB/C', 'wSL/C', 'wCT/C', 'wCB/C', 'wCH/C',\n",
       "       'wSF/C', 'wKN/C', 'O-Swing%', 'Z-Swing%', 'Swing%', 'O-Contact%',\n",
       "       'Z-Contact%', 'Contact%', 'Zone%', 'F-Strike%', 'SwStr%', 'HLD',\n",
       "       'SD', 'MD', 'ERA-', 'FIP-', 'xFIP-', 'K%', 'BB%', 'SIERA', 'RS/9',\n",
       "       'E-F', 'FA% (pfx)', 'FT% (pfx)', 'FC% (pfx)', 'FS% (pfx)',\n",
       "       'FO% (pfx)', 'SI% (pfx)', 'SL% (pfx)', 'CU% (pfx)', 'KC% (pfx)',\n",
       "       'EP% (pfx)', 'CH% (pfx)', 'SC% (pfx)', 'KN% (pfx)', 'UN% (pfx)',\n",
       "       'vFA (pfx)', 'vFT (pfx)', 'vFC (pfx)', 'vFS (pfx)', 'vFO (pfx)',\n",
       "       'vSI (pfx)', 'vSL (pfx)', 'vCU (pfx)', 'vKC (pfx)', 'vEP (pfx)',\n",
       "       'vCH (pfx)', 'vSC (pfx)', 'vKN (pfx)', 'FA-X (pfx)', 'FT-X (pfx)',\n",
       "       'FC-X (pfx)', 'FS-X (pfx)', 'FO-X (pfx)', 'SI-X (pfx)',\n",
       "       'SL-X (pfx)', 'CU-X (pfx)', 'KC-X (pfx)', 'EP-X (pfx)',\n",
       "       'CH-X (pfx)', 'SC-X (pfx)', 'KN-X (pfx)', 'FA-Z (pfx)',\n",
       "       'FT-Z (pfx)', 'FC-Z (pfx)', 'FS-Z (pfx)', 'FO-Z (pfx)',\n",
       "       'SI-Z (pfx)', 'SL-Z (pfx)', 'CU-Z (pfx)', 'KC-Z (pfx)',\n",
       "       'EP-Z (pfx)', 'CH-Z (pfx)', 'SC-Z (pfx)', 'KN-Z (pfx)',\n",
       "       'wFA (pfx)', 'wFT (pfx)', 'wFC (pfx)', 'wFS (pfx)', 'wFO (pfx)',\n",
       "       'wSI (pfx)', 'wSL (pfx)', 'wCU (pfx)', 'wKC (pfx)', 'wEP (pfx)',\n",
       "       'wCH (pfx)', 'wSC (pfx)', 'wKN (pfx)', 'wFA/C (pfx)',\n",
       "       'wFT/C (pfx)', 'wFC/C (pfx)', 'wFS/C (pfx)', 'wFO/C (pfx)',\n",
       "       'wSI/C (pfx)', 'wSL/C (pfx)', 'wCU/C (pfx)', 'wKC/C (pfx)',\n",
       "       'wEP/C (pfx)', 'wCH/C (pfx)', 'wSC/C (pfx)', 'wKN/C (pfx)',\n",
       "       'O-Swing% (pfx)', 'Z-Swing% (pfx)', 'Swing% (pfx)',\n",
       "       'O-Contact% (pfx)', 'Z-Contact% (pfx)', 'Contact% (pfx)',\n",
       "       'Zone% (pfx)', 'Pace', 'RA9-WAR', 'BIP-Wins', 'LOB-Wins',\n",
       "       'FDP-Wins', 'Age Rng', 'K-BB%', 'Pull%', 'Cent%', 'Oppo%', 'Soft%',\n",
       "       'Med%', 'Hard%', 'kwERA', 'TTO%', 'CH% (pi)', 'CS% (pi)',\n",
       "       'CU% (pi)', 'FA% (pi)', 'FC% (pi)', 'FS% (pi)', 'KN% (pi)',\n",
       "       'SB% (pi)', 'SI% (pi)', 'SL% (pi)', 'XX% (pi)', 'vCH (pi)',\n",
       "       'vCS (pi)', 'vCU (pi)', 'vFA (pi)', 'vFC (pi)', 'vFS (pi)',\n",
       "       'vKN (pi)', 'vSB (pi)', 'vSI (pi)', 'vSL (pi)', 'vXX (pi)',\n",
       "       'CH-X (pi)', 'CS-X (pi)', 'CU-X (pi)', 'FA-X (pi)', 'FC-X (pi)',\n",
       "       'FS-X (pi)', 'KN-X (pi)', 'SB-X (pi)', 'SI-X (pi)', 'SL-X (pi)',\n",
       "       'XX-X (pi)', 'CH-Z (pi)', 'CS-Z (pi)', 'CU-Z (pi)', 'FA-Z (pi)',\n",
       "       'FC-Z (pi)', 'FS-Z (pi)', 'KN-Z (pi)', 'SB-Z (pi)', 'SI-Z (pi)',\n",
       "       'SL-Z (pi)', 'XX-Z (pi)', 'wCH (pi)', 'wCS (pi)', 'wCU (pi)',\n",
       "       'wFA (pi)', 'wFC (pi)', 'wFS (pi)', 'wKN (pi)', 'wSB (pi)',\n",
       "       'wSI (pi)', 'wSL (pi)', 'wXX (pi)', 'wCH/C (pi)', 'wCS/C (pi)',\n",
       "       'wCU/C (pi)', 'wFA/C (pi)', 'wFC/C (pi)', 'wFS/C (pi)',\n",
       "       'wKN/C (pi)', 'wSB/C (pi)', 'wSI/C (pi)', 'wSL/C (pi)',\n",
       "       'wXX/C (pi)', 'O-Swing% (pi)', 'Z-Swing% (pi)', 'Swing% (pi)',\n",
       "       'O-Contact% (pi)', 'Z-Contact% (pi)', 'Contact% (pi)',\n",
       "       'Zone% (pi)', 'Pace (pi)'], dtype=object)"
      ]
     },
     "execution_count": 37,
     "metadata": {},
     "output_type": "execute_result"
    }
   ],
   "source": [
    "#call pybaseball to get fangraph pitching data\n",
    "p_1 = pitching_stats(year)\n",
    "p_1.columns.values"
   ]
  },
  {
   "cell_type": "code",
   "execution_count": 38,
   "metadata": {},
   "outputs": [],
   "source": [
    "#clean up dataframe\n",
    "p_1 = p_1[['Season','Name','Team','Age','W','L','ERA','G','GS',\n",
    "                  'CG', 'ShO', 'SV', 'HLD', 'BS', 'IP', 'H', 'R', 'ER', 'HR', 'BB',\n",
    "                  'IBB', 'HBP', 'WP', 'BK', 'SO', 'GB', 'FB', 'LD', 'IFFB', 'Balls',\n",
    "                  'Strikes', 'Pitches', 'RS', 'IFH', 'BU', 'BUH', 'K/9', 'BB/9',\n",
    "                  'K/BB', 'H/9', 'HR/9', 'AVG', 'WHIP', 'BABIP', 'LOB%', 'FIP',\n",
    "                  'GB/FB', 'LD%', 'GB%', 'IFFB%', 'HR/FB', 'IFH%', 'BUH%',\n",
    "                  'Starting', 'Start-IP', 'Relieving', 'Relief-IP']]\n",
    "\n"
   ]
  },
  {
   "cell_type": "code",
   "execution_count": 39,
   "metadata": {},
   "outputs": [],
   "source": [
    "p_1['index_sort'] = \\\n",
    "           (p_1['IP']*1.1) \\\n",
    "         + (p_1['SO']*1)  \\\n",
    "         + (p_1['CG']*2 ) \\\n",
    "         + (p_1['ShO']*3) \\\n",
    "         + (p_1['W']*2) \\\n",
    "         + (p_1['SV']*10.25) \\\n",
    "         \n",
    "\n",
    "p_splitted = p_1['Name'].str.split()\n",
    "p_1['First'] = p_splitted.str[0]\n",
    "p_1['Last'] = p_splitted.str[-1]\n",
    "\n",
    "#sort by descedning sort_index and keep n rows\n",
    "p_1 = p_1.sort_values(by = ['index_sort'], ascending=False)\n",
    "p_2 = p_1[:299]\n",
    "\n",
    "p_2.tail(20)\n",
    "\n",
    "p_2.to_csv('C:\\\\Users\\\\laine\\\\Google Drive\\\\Google Drive\\\\Baseball_stats\\\\fb_pitcher_fangrahps_stats_' + str(year) + '.csv', encoding='utf-8', index=True, index_label='Index')\n",
    "\n",
    "#p_2 = p_2.sort_values(by = ['Last','index_sort']).reset_index(drop=True)\n",
    "         \n",
    "\n",
    "#p_2"
   ]
  },
  {
   "cell_type": "code",
   "execution_count": null,
   "metadata": {},
   "outputs": [],
   "source": []
  },
  {
   "cell_type": "code",
   "execution_count": null,
   "metadata": {},
   "outputs": [],
   "source": []
  }
 ],
 "metadata": {
  "kernelspec": {
   "display_name": "Python 3",
   "language": "python",
   "name": "python3"
  },
  "language_info": {
   "codemirror_mode": {
    "name": "ipython",
    "version": 3
   },
   "file_extension": ".py",
   "mimetype": "text/x-python",
   "name": "python",
   "nbconvert_exporter": "python",
   "pygments_lexer": "ipython3",
   "version": "3.7.4"
  }
 },
 "nbformat": 4,
 "nbformat_minor": 2
}
